{
 "cells": [
  {
   "cell_type": "code",
   "execution_count": 2,
   "id": "799ab027",
   "metadata": {},
   "outputs": [],
   "source": [
    "# from pykrx import stock\n",
    "# import matplotlib.pyplot as plt\n",
    "import FinanceDataReader as fdr\n",
    "# import pandas as pd\n",
    "import numpy as np\n",
    "# import scipy.stats as stats\n",
    "\n",
    "# ticker = \"012030\"\n",
    "\n",
    "# t_name = stock.get_market_ticker_name(ticker)\n",
    "\n",
    "# a = stock.get_market_ohlcv(\"20220720\", \"20220810\", ticker)"
   ]
  },
  {
   "cell_type": "code",
   "execution_count": 15,
   "id": "75309d1e",
   "metadata": {},
   "outputs": [],
   "source": [
    "df_krx = fdr.StockListing('KOSPI').filter([\"Code\",\"Name\"])"
   ]
  },
  {
   "cell_type": "code",
   "execution_count": 16,
   "id": "4ce59bad",
   "metadata": {},
   "outputs": [],
   "source": [
    "df_krx = fdr.StockListing('KRX').filter([\"Code\",\"Name\"])"
   ]
  },
  {
   "cell_type": "code",
   "execution_count": 17,
   "id": "f8a52816",
   "metadata": {},
   "outputs": [
    {
     "data": {
      "text/html": [
       "<div>\n",
       "<style scoped>\n",
       "    .dataframe tbody tr th:only-of-type {\n",
       "        vertical-align: middle;\n",
       "    }\n",
       "\n",
       "    .dataframe tbody tr th {\n",
       "        vertical-align: top;\n",
       "    }\n",
       "\n",
       "    .dataframe thead th {\n",
       "        text-align: right;\n",
       "    }\n",
       "</style>\n",
       "<table border=\"1\" class=\"dataframe\">\n",
       "  <thead>\n",
       "    <tr style=\"text-align: right;\">\n",
       "      <th></th>\n",
       "      <th>Code</th>\n",
       "      <th>Name</th>\n",
       "    </tr>\n",
       "  </thead>\n",
       "  <tbody>\n",
       "    <tr>\n",
       "      <th>0</th>\n",
       "      <td>005930</td>\n",
       "      <td>삼성전자</td>\n",
       "    </tr>\n",
       "    <tr>\n",
       "      <th>1</th>\n",
       "      <td>000660</td>\n",
       "      <td>SK하이닉스</td>\n",
       "    </tr>\n",
       "    <tr>\n",
       "      <th>2</th>\n",
       "      <td>373220</td>\n",
       "      <td>LG에너지솔루션</td>\n",
       "    </tr>\n",
       "    <tr>\n",
       "      <th>3</th>\n",
       "      <td>207940</td>\n",
       "      <td>삼성바이오로직스</td>\n",
       "    </tr>\n",
       "    <tr>\n",
       "      <th>4</th>\n",
       "      <td>005935</td>\n",
       "      <td>삼성전자우</td>\n",
       "    </tr>\n",
       "    <tr>\n",
       "      <th>...</th>\n",
       "      <td>...</td>\n",
       "      <td>...</td>\n",
       "    </tr>\n",
       "    <tr>\n",
       "      <th>2784</th>\n",
       "      <td>217320</td>\n",
       "      <td>썬테크</td>\n",
       "    </tr>\n",
       "    <tr>\n",
       "      <th>2785</th>\n",
       "      <td>288490</td>\n",
       "      <td>나라소프트</td>\n",
       "    </tr>\n",
       "    <tr>\n",
       "      <th>2786</th>\n",
       "      <td>308700</td>\n",
       "      <td>테크엔</td>\n",
       "    </tr>\n",
       "    <tr>\n",
       "      <th>2787</th>\n",
       "      <td>245450</td>\n",
       "      <td>씨앤에스링크</td>\n",
       "    </tr>\n",
       "    <tr>\n",
       "      <th>2788</th>\n",
       "      <td>322190</td>\n",
       "      <td>베른</td>\n",
       "    </tr>\n",
       "  </tbody>\n",
       "</table>\n",
       "<p>2789 rows × 2 columns</p>\n",
       "</div>"
      ],
      "text/plain": [
       "        Code      Name\n",
       "0     005930      삼성전자\n",
       "1     000660    SK하이닉스\n",
       "2     373220  LG에너지솔루션\n",
       "3     207940  삼성바이오로직스\n",
       "4     005935     삼성전자우\n",
       "...      ...       ...\n",
       "2784  217320       썬테크\n",
       "2785  288490     나라소프트\n",
       "2786  308700       테크엔\n",
       "2787  245450    씨앤에스링크\n",
       "2788  322190        베른\n",
       "\n",
       "[2789 rows x 2 columns]"
      ]
     },
     "execution_count": 17,
     "metadata": {},
     "output_type": "execute_result"
    }
   ],
   "source": [
    "df_krx"
   ]
  },
  {
   "cell_type": "code",
   "execution_count": 18,
   "id": "stretch-guard",
   "metadata": {},
   "outputs": [
    {
     "ename": "NameError",
     "evalue": "name 'stockCode' is not defined",
     "output_type": "error",
     "traceback": [
      "\u001b[1;31m---------------------------------------------------------------------------\u001b[0m",
      "\u001b[1;31mNameError\u001b[0m                                 Traceback (most recent call last)",
      "Cell \u001b[1;32mIn[18], line 1\u001b[0m\n\u001b[1;32m----> 1\u001b[0m stock \u001b[38;5;241m=\u001b[39m fdr\u001b[38;5;241m.\u001b[39mDataReader(\u001b[43mstockCode\u001b[49m[\u001b[38;5;241m0\u001b[39m],startDate,endDate)\u001b[38;5;241m.\u001b[39mfilter([\u001b[38;5;124m'\u001b[39m\u001b[38;5;124mClose\u001b[39m\u001b[38;5;124m'\u001b[39m,\u001b[38;5;124m'\u001b[39m\u001b[38;5;124mChange\u001b[39m\u001b[38;5;124m'\u001b[39m])\n\u001b[0;32m      2\u001b[0m \u001b[38;5;28mprint\u001b[39m(stock[\u001b[38;5;124m'\u001b[39m\u001b[38;5;124mChange\u001b[39m\u001b[38;5;124m'\u001b[39m]\u001b[38;5;241m.\u001b[39mvar())\n",
      "\u001b[1;31mNameError\u001b[0m: name 'stockCode' is not defined"
     ]
    }
   ],
   "source": [
    "stock = fdr.DataReader(stockCode[0],startDate,endDate).filter(['Close','Change'])\n",
    "print(stock['Change'].var())"
   ]
  },
  {
   "cell_type": "code",
   "execution_count": null,
   "id": "comprehensive-blowing",
   "metadata": {},
   "outputs": [
    {
     "data": {
      "text/html": [
       "<div>\n",
       "<style scoped>\n",
       "    .dataframe tbody tr th:only-of-type {\n",
       "        vertical-align: middle;\n",
       "    }\n",
       "\n",
       "    .dataframe tbody tr th {\n",
       "        vertical-align: top;\n",
       "    }\n",
       "\n",
       "    .dataframe thead th {\n",
       "        text-align: right;\n",
       "    }\n",
       "</style>\n",
       "<table border=\"1\" class=\"dataframe\">\n",
       "  <thead>\n",
       "    <tr style=\"text-align: right;\">\n",
       "      <th></th>\n",
       "      <th>Date</th>\n",
       "      <th>Close</th>\n",
       "      <th>Change</th>\n",
       "    </tr>\n",
       "  </thead>\n",
       "  <tbody>\n",
       "    <tr>\n",
       "      <th>0</th>\n",
       "      <td>2022-06-02</td>\n",
       "      <td>66700</td>\n",
       "      <td>-0.010386</td>\n",
       "    </tr>\n",
       "    <tr>\n",
       "      <th>1</th>\n",
       "      <td>2022-06-03</td>\n",
       "      <td>66800</td>\n",
       "      <td>0.001499</td>\n",
       "    </tr>\n",
       "    <tr>\n",
       "      <th>2</th>\n",
       "      <td>2022-06-07</td>\n",
       "      <td>65500</td>\n",
       "      <td>-0.019461</td>\n",
       "    </tr>\n",
       "    <tr>\n",
       "      <th>3</th>\n",
       "      <td>2022-06-08</td>\n",
       "      <td>65300</td>\n",
       "      <td>-0.003053</td>\n",
       "    </tr>\n",
       "    <tr>\n",
       "      <th>4</th>\n",
       "      <td>2022-06-09</td>\n",
       "      <td>65200</td>\n",
       "      <td>-0.001531</td>\n",
       "    </tr>\n",
       "    <tr>\n",
       "      <th>5</th>\n",
       "      <td>2022-06-10</td>\n",
       "      <td>63800</td>\n",
       "      <td>-0.021472</td>\n",
       "    </tr>\n",
       "    <tr>\n",
       "      <th>6</th>\n",
       "      <td>2022-06-13</td>\n",
       "      <td>62100</td>\n",
       "      <td>-0.026646</td>\n",
       "    </tr>\n",
       "    <tr>\n",
       "      <th>7</th>\n",
       "      <td>2022-06-14</td>\n",
       "      <td>61900</td>\n",
       "      <td>-0.003221</td>\n",
       "    </tr>\n",
       "    <tr>\n",
       "      <th>8</th>\n",
       "      <td>2022-06-15</td>\n",
       "      <td>60700</td>\n",
       "      <td>-0.019386</td>\n",
       "    </tr>\n",
       "    <tr>\n",
       "      <th>9</th>\n",
       "      <td>2022-06-16</td>\n",
       "      <td>60900</td>\n",
       "      <td>0.003295</td>\n",
       "    </tr>\n",
       "    <tr>\n",
       "      <th>10</th>\n",
       "      <td>2022-06-17</td>\n",
       "      <td>59800</td>\n",
       "      <td>-0.018062</td>\n",
       "    </tr>\n",
       "    <tr>\n",
       "      <th>11</th>\n",
       "      <td>2022-06-20</td>\n",
       "      <td>58700</td>\n",
       "      <td>-0.018395</td>\n",
       "    </tr>\n",
       "    <tr>\n",
       "      <th>12</th>\n",
       "      <td>2022-06-21</td>\n",
       "      <td>58500</td>\n",
       "      <td>-0.003407</td>\n",
       "    </tr>\n",
       "    <tr>\n",
       "      <th>13</th>\n",
       "      <td>2022-06-22</td>\n",
       "      <td>57600</td>\n",
       "      <td>-0.015385</td>\n",
       "    </tr>\n",
       "    <tr>\n",
       "      <th>14</th>\n",
       "      <td>2022-06-23</td>\n",
       "      <td>57400</td>\n",
       "      <td>-0.003472</td>\n",
       "    </tr>\n",
       "    <tr>\n",
       "      <th>15</th>\n",
       "      <td>2022-06-24</td>\n",
       "      <td>58400</td>\n",
       "      <td>0.017422</td>\n",
       "    </tr>\n",
       "    <tr>\n",
       "      <th>16</th>\n",
       "      <td>2022-06-27</td>\n",
       "      <td>58800</td>\n",
       "      <td>0.006849</td>\n",
       "    </tr>\n",
       "    <tr>\n",
       "      <th>17</th>\n",
       "      <td>2022-06-28</td>\n",
       "      <td>59400</td>\n",
       "      <td>0.010204</td>\n",
       "    </tr>\n",
       "    <tr>\n",
       "      <th>18</th>\n",
       "      <td>2022-06-29</td>\n",
       "      <td>58000</td>\n",
       "      <td>-0.023569</td>\n",
       "    </tr>\n",
       "    <tr>\n",
       "      <th>19</th>\n",
       "      <td>2022-06-30</td>\n",
       "      <td>57000</td>\n",
       "      <td>-0.017241</td>\n",
       "    </tr>\n",
       "  </tbody>\n",
       "</table>\n",
       "</div>"
      ],
      "text/plain": [
       "         Date  Close    Change\n",
       "0  2022-06-02  66700 -0.010386\n",
       "1  2022-06-03  66800  0.001499\n",
       "2  2022-06-07  65500 -0.019461\n",
       "3  2022-06-08  65300 -0.003053\n",
       "4  2022-06-09  65200 -0.001531\n",
       "5  2022-06-10  63800 -0.021472\n",
       "6  2022-06-13  62100 -0.026646\n",
       "7  2022-06-14  61900 -0.003221\n",
       "8  2022-06-15  60700 -0.019386\n",
       "9  2022-06-16  60900  0.003295\n",
       "10 2022-06-17  59800 -0.018062\n",
       "11 2022-06-20  58700 -0.018395\n",
       "12 2022-06-21  58500 -0.003407\n",
       "13 2022-06-22  57600 -0.015385\n",
       "14 2022-06-23  57400 -0.003472\n",
       "15 2022-06-24  58400  0.017422\n",
       "16 2022-06-27  58800  0.006849\n",
       "17 2022-06-28  59400  0.010204\n",
       "18 2022-06-29  58000 -0.023569\n",
       "19 2022-06-30  57000 -0.017241"
      ]
     },
     "execution_count": 14,
     "metadata": {},
     "output_type": "execute_result"
    }
   ],
   "source": [
    "stock = fdr.DataReader(\"005930\",\"20220601\",\"20220630\").filter(['Close','Change'])\n",
    "stock2 = stock.reset_index()\n",
    "stock2"
   ]
  },
  {
   "cell_type": "code",
   "execution_count": null,
   "id": "62855d21",
   "metadata": {},
   "outputs": [
    {
     "name": "stdout",
     "output_type": "stream",
     "text": [
      "Close\n",
      "Change\n"
     ]
    }
   ],
   "source": [
    "for i in stock:\n",
    "    print(i)"
   ]
  },
  {
   "cell_type": "code",
   "execution_count": null,
   "id": "89f9ad3f",
   "metadata": {},
   "outputs": [
    {
     "name": "stdout",
     "output_type": "stream",
     "text": [
      "66700.0\n",
      "66800.0\n",
      "65500.0\n",
      "65300.0\n",
      "65200.0\n",
      "63800.0\n",
      "62100.0\n",
      "61900.0\n",
      "60700.0\n",
      "60900.0\n",
      "59800.0\n",
      "58700.0\n",
      "58500.0\n",
      "57600.0\n",
      "57400.0\n",
      "58400.0\n",
      "58800.0\n",
      "59400.0\n",
      "58000.0\n",
      "57000.0\n"
     ]
    }
   ],
   "source": [
    "for i in range(len(stock)):\n",
    "    print(stock.iloc[i]['Close'])"
   ]
  },
  {
   "cell_type": "code",
   "execution_count": null,
   "id": "joint-color",
   "metadata": {},
   "outputs": [],
   "source": [
    "startDate = '2022-06-01'\n",
    "endDate = '2023-01-01'\n",
    "\n",
    "stockCode = ['016380','004690']\n",
    "\n",
    "n=len(stockCode)\n",
    "\n",
    "# cnt = [20,30,50]\n",
    "\n",
    "cnt = [40, 60]\n",
    "\n",
    "# w1 = 0.2\n",
    "# w2 = 0.3\n",
    "# w3 = 0.5"
   ]
  },
  {
   "cell_type": "code",
   "execution_count": null,
   "id": "0556201d",
   "metadata": {},
   "outputs": [
    {
     "name": "stdout",
     "output_type": "stream",
     "text": [
      "0.4 0.4 0.031690955994281816 0.031690955994281816 1.0\n",
      "0.4 0.6 0.031690955994281816 0.021572909169017097 0.19126537798186954\n",
      "0.6 0.4 0.021572909169017097 0.031690955994281816 0.19126537798186954\n",
      "0.6 0.6 0.021572909169017097 0.021572909169017097 1.0\n",
      "3527000 7967800 4440800 1.2590870428125887\n",
      "0.0017577721797877375 0.0003909968141029941\n"
     ]
    }
   ],
   "source": [
    "start_price = []\n",
    "end_price = []\n",
    "start_value = []\n",
    "end_value = []\n",
    "ugl = []\n",
    "return_rate = []\n",
    "avg_change = []\n",
    "var_change = []\n",
    "\n",
    "total_start_value = 0\n",
    "total_end_value = 0\n",
    "\n",
    "for i in range(n):\n",
    "    stock = fdr.DataReader(stockCode[i],startDate,endDate).filter(['Close','Change'])\n",
    "    \n",
    "    start_price.append(stock['Close'][0])\n",
    "    end_price.append(stock['Close'][-1])\n",
    "    start_value.append(start_price[i] * cnt1)\n",
    "    end_value.append(end_price[i] * cnt1)\n",
    "    ugl.append(end_value[i] - start_value[i])\n",
    "    return_rate.append(ugl[i] / start_value[i])\n",
    "    avg_change.append(stock['Change'].mean())\n",
    "    var_change.append(stock['Change'].var())\n",
    "    total_start_value += start_value[i]\n",
    "    total_end_value += end_value[i]\n",
    "\n",
    "total_ugl = total_end_value - total_start_value\n",
    "total_rr = total_ugl / total_start_value\n",
    "    \n",
    "pf_err = 0\n",
    "\n",
    "for i in range(n):\n",
    "    w = cnt[i] / sum(cnt)\n",
    "    pf_err += (w * avg_change[i])\n",
    "\n",
    "pf_risk = 0  \n",
    "\n",
    "for i in range(n):\n",
    "    for j in range(n):\n",
    "        stock_i = fdr.DataReader(stockCode[i],startDate,endDate).filter(['Close','Change'])\n",
    "        stock_j = fdr.DataReader(stockCode[j],startDate,endDate).filter(['Close','Change'])\n",
    "        w_i = cnt[i] / sum(cnt)\n",
    "        w_j = cnt[j] / sum(cnt)\n",
    "#         v = w_i * w_j * np.sqrt(var_change[i]) * np.sqrt(var_change[j]) *  stats.pearsonr(stock_i['Change'],stock_j['Change'])[0]\n",
    "        print(w_i, w_j,np.sqrt(var_change[i]),np.sqrt(var_change[j]),stats.pearsonr(stock_i['Change'],stock_j['Change'])[0])\n",
    "        pf_risk += (w_i * w_j * np.sqrt(var_change[i]) * np.sqrt(var_change[j]) *  stats.pearsonr(stock_i['Change'],stock_j['Change'])[0])\n",
    "\n",
    "print(total_start_value, total_end_value, total_ugl, total_rr)\n",
    "print(pf_err, pf_risk)\n",
    "# stock1_start_price = stock1['Close'][0]\n",
    "# stock1_end_price = stock1['Close'][-1]\n",
    "# stock1_start_value = stock1_start_price * cnt1\n",
    "# stock1_end_value = stock1_end_price * cnt1\n",
    "# stock1_ugl = end_value - start_value\n",
    "# stock1_rr = stock1_ugl / stock1_start_value\n",
    "\n",
    "# stock2_start_price = stock2['Close'][0]\n",
    "# stock2_end_price = stock2['Close'][-1]\n",
    "# stock2_start_value = stock2_start_price * cnt2\n",
    "# stock2_end_value = stock2_end_price * cnt2\n",
    "# stock2_ugl = end_value - start_value\n",
    "# stock2_rr = stock2_ugl / stock2_start_value\n",
    "\n",
    "# stock3_start_price = stock3['Close'][0]\n",
    "# stock3_end_price = stock3['Close'][-1]\n",
    "# stock3_start_value = stock3_start_price * cnt3\n",
    "# stock3_end_value = stock3_end_price * cnt1\n",
    "# stock3_ugl = end_value - start_value\n",
    "# stock3_rr = stock3_ugl / stock3_start_value\n",
    "\n",
    "# stock1_avg_change = stock1['Change'].mean()\n",
    "# stock2_avg_change = stock2['Change'].mean()\n",
    "# stock3_avg_change = stock3['Change'].mean()\n",
    "\n",
    "# stock1_var_change = stock1['Change'].var()\n",
    "# stock2_var_change = stock2['Change'].var()\n",
    "# stock3_var_change = stock3['Change'].var()\n"
   ]
  },
  {
   "cell_type": "code",
   "execution_count": null,
   "id": "engaging-lunch",
   "metadata": {},
   "outputs": [],
   "source": []
  },
  {
   "cell_type": "code",
   "execution_count": null,
   "id": "e35c2c3e",
   "metadata": {},
   "outputs": [
    {
     "data": {
      "text/html": [
       "<div>\n",
       "<style scoped>\n",
       "    .dataframe tbody tr th:only-of-type {\n",
       "        vertical-align: middle;\n",
       "    }\n",
       "\n",
       "    .dataframe tbody tr th {\n",
       "        vertical-align: top;\n",
       "    }\n",
       "\n",
       "    .dataframe thead th {\n",
       "        text-align: right;\n",
       "    }\n",
       "</style>\n",
       "<table border=\"1\" class=\"dataframe\">\n",
       "  <thead>\n",
       "    <tr style=\"text-align: right;\">\n",
       "      <th></th>\n",
       "      <th>Code</th>\n",
       "      <th>Name</th>\n",
       "    </tr>\n",
       "  </thead>\n",
       "  <tbody>\n",
       "    <tr>\n",
       "      <th>0</th>\n",
       "      <td>005930</td>\n",
       "      <td>삼성전자</td>\n",
       "    </tr>\n",
       "    <tr>\n",
       "      <th>1</th>\n",
       "      <td>000660</td>\n",
       "      <td>SK하이닉스</td>\n",
       "    </tr>\n",
       "    <tr>\n",
       "      <th>2</th>\n",
       "      <td>373220</td>\n",
       "      <td>LG에너지솔루션</td>\n",
       "    </tr>\n",
       "    <tr>\n",
       "      <th>3</th>\n",
       "      <td>207940</td>\n",
       "      <td>삼성바이오로직스</td>\n",
       "    </tr>\n",
       "    <tr>\n",
       "      <th>4</th>\n",
       "      <td>005935</td>\n",
       "      <td>삼성전자우</td>\n",
       "    </tr>\n",
       "    <tr>\n",
       "      <th>...</th>\n",
       "      <td>...</td>\n",
       "      <td>...</td>\n",
       "    </tr>\n",
       "    <tr>\n",
       "      <th>2783</th>\n",
       "      <td>217320</td>\n",
       "      <td>썬테크</td>\n",
       "    </tr>\n",
       "    <tr>\n",
       "      <th>2784</th>\n",
       "      <td>288490</td>\n",
       "      <td>나라소프트</td>\n",
       "    </tr>\n",
       "    <tr>\n",
       "      <th>2785</th>\n",
       "      <td>308700</td>\n",
       "      <td>테크엔</td>\n",
       "    </tr>\n",
       "    <tr>\n",
       "      <th>2786</th>\n",
       "      <td>245450</td>\n",
       "      <td>씨앤에스링크</td>\n",
       "    </tr>\n",
       "    <tr>\n",
       "      <th>2787</th>\n",
       "      <td>322190</td>\n",
       "      <td>베른</td>\n",
       "    </tr>\n",
       "  </tbody>\n",
       "</table>\n",
       "<p>2788 rows × 2 columns</p>\n",
       "</div>"
      ],
      "text/plain": [
       "        Code      Name\n",
       "0     005930      삼성전자\n",
       "1     000660    SK하이닉스\n",
       "2     373220  LG에너지솔루션\n",
       "3     207940  삼성바이오로직스\n",
       "4     005935     삼성전자우\n",
       "...      ...       ...\n",
       "2783  217320       썬테크\n",
       "2784  288490     나라소프트\n",
       "2785  308700       테크엔\n",
       "2786  245450    씨앤에스링크\n",
       "2787  322190        베른\n",
       "\n",
       "[2788 rows x 2 columns]"
      ]
     },
     "execution_count": 6,
     "metadata": {},
     "output_type": "execute_result"
    }
   ],
   "source": [
    "df_krx"
   ]
  },
  {
   "cell_type": "code",
   "execution_count": null,
   "id": "bd970ed1",
   "metadata": {},
   "outputs": [
    {
     "ename": "KeyError",
     "evalue": "'Close'",
     "output_type": "error",
     "traceback": [
      "\u001b[1;31m---------------------------------------------------------------------------\u001b[0m",
      "\u001b[1;31mKeyError\u001b[0m                                  Traceback (most recent call last)",
      "Cell \u001b[1;32mIn[5], line 1\u001b[0m\n\u001b[1;32m----> 1\u001b[0m start_date_close \u001b[38;5;241m=\u001b[39m \u001b[43mdf_krx\u001b[49m\u001b[38;5;241;43m.\u001b[39;49m\u001b[43mloc\u001b[49m\u001b[43m[\u001b[49m\u001b[38;5;124;43m'\u001b[39;49m\u001b[38;5;124;43mClose\u001b[39;49m\u001b[38;5;124;43m'\u001b[39;49m\u001b[43m]\u001b[49m\u001b[38;5;241m.\u001b[39mvalues[\u001b[38;5;241m0\u001b[39m]\n",
      "File \u001b[1;32mc:\\Users\\User\\miniconda3\\Lib\\site-packages\\pandas\\core\\indexing.py:1153\u001b[0m, in \u001b[0;36m_LocationIndexer.__getitem__\u001b[1;34m(self, key)\u001b[0m\n\u001b[0;32m   1150\u001b[0m axis \u001b[38;5;241m=\u001b[39m \u001b[38;5;28mself\u001b[39m\u001b[38;5;241m.\u001b[39maxis \u001b[38;5;129;01mor\u001b[39;00m \u001b[38;5;241m0\u001b[39m\n\u001b[0;32m   1152\u001b[0m maybe_callable \u001b[38;5;241m=\u001b[39m com\u001b[38;5;241m.\u001b[39mapply_if_callable(key, \u001b[38;5;28mself\u001b[39m\u001b[38;5;241m.\u001b[39mobj)\n\u001b[1;32m-> 1153\u001b[0m \u001b[38;5;28;01mreturn\u001b[39;00m \u001b[38;5;28;43mself\u001b[39;49m\u001b[38;5;241;43m.\u001b[39;49m\u001b[43m_getitem_axis\u001b[49m\u001b[43m(\u001b[49m\u001b[43mmaybe_callable\u001b[49m\u001b[43m,\u001b[49m\u001b[43m \u001b[49m\u001b[43maxis\u001b[49m\u001b[38;5;241;43m=\u001b[39;49m\u001b[43maxis\u001b[49m\u001b[43m)\u001b[49m\n",
      "File \u001b[1;32mc:\\Users\\User\\miniconda3\\Lib\\site-packages\\pandas\\core\\indexing.py:1393\u001b[0m, in \u001b[0;36m_LocIndexer._getitem_axis\u001b[1;34m(self, key, axis)\u001b[0m\n\u001b[0;32m   1391\u001b[0m \u001b[38;5;66;03m# fall thru to straight lookup\u001b[39;00m\n\u001b[0;32m   1392\u001b[0m \u001b[38;5;28mself\u001b[39m\u001b[38;5;241m.\u001b[39m_validate_key(key, axis)\n\u001b[1;32m-> 1393\u001b[0m \u001b[38;5;28;01mreturn\u001b[39;00m \u001b[38;5;28;43mself\u001b[39;49m\u001b[38;5;241;43m.\u001b[39;49m\u001b[43m_get_label\u001b[49m\u001b[43m(\u001b[49m\u001b[43mkey\u001b[49m\u001b[43m,\u001b[49m\u001b[43m \u001b[49m\u001b[43maxis\u001b[49m\u001b[38;5;241;43m=\u001b[39;49m\u001b[43maxis\u001b[49m\u001b[43m)\u001b[49m\n",
      "File \u001b[1;32mc:\\Users\\User\\miniconda3\\Lib\\site-packages\\pandas\\core\\indexing.py:1343\u001b[0m, in \u001b[0;36m_LocIndexer._get_label\u001b[1;34m(self, label, axis)\u001b[0m\n\u001b[0;32m   1341\u001b[0m \u001b[38;5;28;01mdef\u001b[39;00m \u001b[38;5;21m_get_label\u001b[39m(\u001b[38;5;28mself\u001b[39m, label, axis: AxisInt):\n\u001b[0;32m   1342\u001b[0m     \u001b[38;5;66;03m# GH#5567 this will fail if the label is not present in the axis.\u001b[39;00m\n\u001b[1;32m-> 1343\u001b[0m     \u001b[38;5;28;01mreturn\u001b[39;00m \u001b[38;5;28;43mself\u001b[39;49m\u001b[38;5;241;43m.\u001b[39;49m\u001b[43mobj\u001b[49m\u001b[38;5;241;43m.\u001b[39;49m\u001b[43mxs\u001b[49m\u001b[43m(\u001b[49m\u001b[43mlabel\u001b[49m\u001b[43m,\u001b[49m\u001b[43m \u001b[49m\u001b[43maxis\u001b[49m\u001b[38;5;241;43m=\u001b[39;49m\u001b[43maxis\u001b[49m\u001b[43m)\u001b[49m\n",
      "File \u001b[1;32mc:\\Users\\User\\miniconda3\\Lib\\site-packages\\pandas\\core\\generic.py:4236\u001b[0m, in \u001b[0;36mNDFrame.xs\u001b[1;34m(self, key, axis, level, drop_level)\u001b[0m\n\u001b[0;32m   4234\u001b[0m             new_index \u001b[38;5;241m=\u001b[39m index[loc]\n\u001b[0;32m   4235\u001b[0m \u001b[38;5;28;01melse\u001b[39;00m:\n\u001b[1;32m-> 4236\u001b[0m     loc \u001b[38;5;241m=\u001b[39m \u001b[43mindex\u001b[49m\u001b[38;5;241;43m.\u001b[39;49m\u001b[43mget_loc\u001b[49m\u001b[43m(\u001b[49m\u001b[43mkey\u001b[49m\u001b[43m)\u001b[49m\n\u001b[0;32m   4238\u001b[0m     \u001b[38;5;28;01mif\u001b[39;00m \u001b[38;5;28misinstance\u001b[39m(loc, np\u001b[38;5;241m.\u001b[39mndarray):\n\u001b[0;32m   4239\u001b[0m         \u001b[38;5;28;01mif\u001b[39;00m loc\u001b[38;5;241m.\u001b[39mdtype \u001b[38;5;241m==\u001b[39m np\u001b[38;5;241m.\u001b[39mbool_:\n",
      "File \u001b[1;32mc:\\Users\\User\\miniconda3\\Lib\\site-packages\\pandas\\core\\indexes\\range.py:418\u001b[0m, in \u001b[0;36mRangeIndex.get_loc\u001b[1;34m(self, key)\u001b[0m\n\u001b[0;32m    416\u001b[0m         \u001b[38;5;28;01mraise\u001b[39;00m \u001b[38;5;167;01mKeyError\u001b[39;00m(key) \u001b[38;5;28;01mfrom\u001b[39;00m \u001b[38;5;21;01merr\u001b[39;00m\n\u001b[0;32m    417\u001b[0m \u001b[38;5;28;01mif\u001b[39;00m \u001b[38;5;28misinstance\u001b[39m(key, Hashable):\n\u001b[1;32m--> 418\u001b[0m     \u001b[38;5;28;01mraise\u001b[39;00m \u001b[38;5;167;01mKeyError\u001b[39;00m(key)\n\u001b[0;32m    419\u001b[0m \u001b[38;5;28mself\u001b[39m\u001b[38;5;241m.\u001b[39m_check_indexing_error(key)\n\u001b[0;32m    420\u001b[0m \u001b[38;5;28;01mraise\u001b[39;00m \u001b[38;5;167;01mKeyError\u001b[39;00m(key)\n",
      "\u001b[1;31mKeyError\u001b[0m: 'Close'"
     ]
    }
   ],
   "source": []
  },
  {
   "cell_type": "code",
   "execution_count": null,
   "id": "5d1f8f4d",
   "metadata": {},
   "outputs": [],
   "source": [
    "# STOCK INSERT\n",
    "\n",
    "# import psycopg2\n",
    "# from psycopg2 import extras\n",
    "# import FinanceDataReader as fdr\n",
    "\n",
    "# df_krx = fdr.StockListing('KRX').filter([\"Code\",\"Name\"])\n",
    "\n",
    "# conn = psycopg2.connect(\"host=localhost dbname=difi user=postgres password=59795977 port=5432\")\n",
    "# cur = conn.cursor()\n",
    "\n",
    "\n",
    "# values = df_krx.to_records(index=False).tolist()\n",
    "\n",
    "# # 데이터프레임을 PostgreSQL에 삽입\n",
    "# insert_query = \"\"\"\n",
    "#     INSERT INTO difi_stock (stock_ticker, stock_name)\n",
    "#     VALUES %s;\n",
    "# \"\"\"\n",
    "# extras.execute_values(cur, insert_query, values)\n",
    "\n",
    "# # 변경사항 커밋 및 연결 종료\n",
    "# conn.commit()\n",
    "# cur.close()"
   ]
  },
  {
   "cell_type": "code",
   "execution_count": null,
   "id": "1b91e93c",
   "metadata": {},
   "outputs": [],
   "source": [
    "stock_timestamp = fdr.DataReader('000810',\"2024-01-20\",\"2024-01-27\").filter(['Close','Change'])"
   ]
  },
  {
   "cell_type": "code",
   "execution_count": null,
   "id": "6a536e7f",
   "metadata": {},
   "outputs": [
    {
     "data": {
      "text/html": [
       "<div>\n",
       "<style scoped>\n",
       "    .dataframe tbody tr th:only-of-type {\n",
       "        vertical-align: middle;\n",
       "    }\n",
       "\n",
       "    .dataframe tbody tr th {\n",
       "        vertical-align: top;\n",
       "    }\n",
       "\n",
       "    .dataframe thead th {\n",
       "        text-align: right;\n",
       "    }\n",
       "</style>\n",
       "<table border=\"1\" class=\"dataframe\">\n",
       "  <thead>\n",
       "    <tr style=\"text-align: right;\">\n",
       "      <th></th>\n",
       "      <th>Close</th>\n",
       "      <th>Change</th>\n",
       "    </tr>\n",
       "    <tr>\n",
       "      <th>Date</th>\n",
       "      <th></th>\n",
       "      <th></th>\n",
       "    </tr>\n",
       "  </thead>\n",
       "  <tbody>\n",
       "    <tr>\n",
       "      <th>2024-01-17</th>\n",
       "      <td>71000</td>\n",
       "      <td>-0.022039</td>\n",
       "    </tr>\n",
       "    <tr>\n",
       "      <th>2024-01-18</th>\n",
       "      <td>71700</td>\n",
       "      <td>0.009859</td>\n",
       "    </tr>\n",
       "    <tr>\n",
       "      <th>2024-01-19</th>\n",
       "      <td>74700</td>\n",
       "      <td>0.041841</td>\n",
       "    </tr>\n",
       "    <tr>\n",
       "      <th>2024-01-22</th>\n",
       "      <td>75100</td>\n",
       "      <td>0.005355</td>\n",
       "    </tr>\n",
       "    <tr>\n",
       "      <th>2024-01-23</th>\n",
       "      <td>75200</td>\n",
       "      <td>0.001332</td>\n",
       "    </tr>\n",
       "    <tr>\n",
       "      <th>2024-01-24</th>\n",
       "      <td>74000</td>\n",
       "      <td>-0.015957</td>\n",
       "    </tr>\n",
       "    <tr>\n",
       "      <th>2024-01-25</th>\n",
       "      <td>74100</td>\n",
       "      <td>0.001351</td>\n",
       "    </tr>\n",
       "  </tbody>\n",
       "</table>\n",
       "</div>"
      ],
      "text/plain": [
       "            Close    Change\n",
       "Date                       \n",
       "2024-01-17  71000 -0.022039\n",
       "2024-01-18  71700  0.009859\n",
       "2024-01-19  74700  0.041841\n",
       "2024-01-22  75100  0.005355\n",
       "2024-01-23  75200  0.001332\n",
       "2024-01-24  74000 -0.015957\n",
       "2024-01-25  74100  0.001351"
      ]
     },
     "execution_count": 8,
     "metadata": {},
     "output_type": "execute_result"
    }
   ],
   "source": [
    "stock_timestamp"
   ]
  },
  {
   "cell_type": "code",
   "execution_count": null,
   "id": "c8c2d410",
   "metadata": {},
   "outputs": [
    {
     "data": {
      "text/plain": [
       "71000.0"
      ]
     },
     "execution_count": 21,
     "metadata": {},
     "output_type": "execute_result"
    }
   ],
   "source": [
    "start_date_close = stock_timestamp.loc['2024-01-17','Close']\n",
    "start_date_close"
   ]
  },
  {
   "cell_type": "code",
   "execution_count": null,
   "id": "5e7d471a",
   "metadata": {},
   "outputs": [
    {
     "data": {
      "text/plain": [
       "71000"
      ]
     },
     "execution_count": 30,
     "metadata": {},
     "output_type": "execute_result"
    }
   ],
   "source": [
    "start_date_close = stock_timestamp.iloc[0,1]\n",
    "start_date_close"
   ]
  },
  {
   "cell_type": "code",
   "execution_count": null,
   "id": "a34e69c6",
   "metadata": {},
   "outputs": [],
   "source": [
    "stock_timestamp = stock_timestamp.reset_index()"
   ]
  },
  {
   "cell_type": "code",
   "execution_count": null,
   "id": "130a56d8",
   "metadata": {},
   "outputs": [
    {
     "data": {
      "text/html": [
       "<div>\n",
       "<style scoped>\n",
       "    .dataframe tbody tr th:only-of-type {\n",
       "        vertical-align: middle;\n",
       "    }\n",
       "\n",
       "    .dataframe tbody tr th {\n",
       "        vertical-align: top;\n",
       "    }\n",
       "\n",
       "    .dataframe thead th {\n",
       "        text-align: right;\n",
       "    }\n",
       "</style>\n",
       "<table border=\"1\" class=\"dataframe\">\n",
       "  <thead>\n",
       "    <tr style=\"text-align: right;\">\n",
       "      <th></th>\n",
       "      <th>Close</th>\n",
       "      <th>Change</th>\n",
       "    </tr>\n",
       "    <tr>\n",
       "      <th>Date</th>\n",
       "      <th></th>\n",
       "      <th></th>\n",
       "    </tr>\n",
       "  </thead>\n",
       "  <tbody>\n",
       "    <tr>\n",
       "      <th>2024-01-22</th>\n",
       "      <td>234000</td>\n",
       "      <td>0.010799</td>\n",
       "    </tr>\n",
       "    <tr>\n",
       "      <th>2024-01-23</th>\n",
       "      <td>236000</td>\n",
       "      <td>0.008547</td>\n",
       "    </tr>\n",
       "    <tr>\n",
       "      <th>2024-01-24</th>\n",
       "      <td>237000</td>\n",
       "      <td>0.004237</td>\n",
       "    </tr>\n",
       "    <tr>\n",
       "      <th>2024-01-25</th>\n",
       "      <td>241000</td>\n",
       "      <td>0.016878</td>\n",
       "    </tr>\n",
       "    <tr>\n",
       "      <th>2024-01-26</th>\n",
       "      <td>241000</td>\n",
       "      <td>0.000000</td>\n",
       "    </tr>\n",
       "  </tbody>\n",
       "</table>\n",
       "</div>"
      ],
      "text/plain": [
       "             Close    Change\n",
       "Date                        \n",
       "2024-01-22  234000  0.010799\n",
       "2024-01-23  236000  0.008547\n",
       "2024-01-24  237000  0.004237\n",
       "2024-01-25  241000  0.016878\n",
       "2024-01-26  241000  0.000000"
      ]
     },
     "execution_count": 34,
     "metadata": {},
     "output_type": "execute_result"
    }
   ],
   "source": [
    "stock_timestamp"
   ]
  },
  {
   "cell_type": "code",
   "execution_count": 20,
   "id": "5487c814",
   "metadata": {},
   "outputs": [
    {
     "data": {
      "text/plain": [
       "0.003687492372873468"
      ]
     },
     "execution_count": 20,
     "metadata": {},
     "output_type": "execute_result"
    }
   ],
   "source": [
    "# kospi 수익률 표준편차\n",
    "from tqdm import tqdm\n",
    "\n",
    "# df_kospi500 = fdr.StockListing('KS11').filter([\"Code\",\"Name\"]).head(100)\n",
    "kospi_index = fdr.DataReader(\"KS11\",\"2024-01-20\",\"2024-01-27\").filter(['Change'])\n",
    "\n",
    "kospi_std = np.std(kospi_index[\"Change\"])\n",
    "kospi_std"
   ]
  },
  {
   "cell_type": "code",
   "execution_count": 29,
   "id": "0624107f",
   "metadata": {},
   "outputs": [
    {
     "data": {
      "text/html": [
       "<div>\n",
       "<style scoped>\n",
       "    .dataframe tbody tr th:only-of-type {\n",
       "        vertical-align: middle;\n",
       "    }\n",
       "\n",
       "    .dataframe tbody tr th {\n",
       "        vertical-align: top;\n",
       "    }\n",
       "\n",
       "    .dataframe thead th {\n",
       "        text-align: right;\n",
       "    }\n",
       "</style>\n",
       "<table border=\"1\" class=\"dataframe\">\n",
       "  <thead>\n",
       "    <tr style=\"text-align: right;\">\n",
       "      <th></th>\n",
       "      <th>Close</th>\n",
       "      <th>Change</th>\n",
       "    </tr>\n",
       "    <tr>\n",
       "      <th>Date</th>\n",
       "      <th></th>\n",
       "      <th></th>\n",
       "    </tr>\n",
       "  </thead>\n",
       "  <tbody>\n",
       "    <tr>\n",
       "      <th>2024-01-22</th>\n",
       "      <td>234000</td>\n",
       "      <td>0.010799</td>\n",
       "    </tr>\n",
       "    <tr>\n",
       "      <th>2024-01-23</th>\n",
       "      <td>236000</td>\n",
       "      <td>0.008547</td>\n",
       "    </tr>\n",
       "    <tr>\n",
       "      <th>2024-01-24</th>\n",
       "      <td>237000</td>\n",
       "      <td>0.004237</td>\n",
       "    </tr>\n",
       "    <tr>\n",
       "      <th>2024-01-25</th>\n",
       "      <td>241000</td>\n",
       "      <td>0.016878</td>\n",
       "    </tr>\n",
       "    <tr>\n",
       "      <th>2024-01-26</th>\n",
       "      <td>241000</td>\n",
       "      <td>0.000000</td>\n",
       "    </tr>\n",
       "  </tbody>\n",
       "</table>\n",
       "</div>"
      ],
      "text/plain": [
       "             Close    Change\n",
       "Date                        \n",
       "2024-01-22  234000  0.010799\n",
       "2024-01-23  236000  0.008547\n",
       "2024-01-24  237000  0.004237\n",
       "2024-01-25  241000  0.016878\n",
       "2024-01-26  241000  0.000000"
      ]
     },
     "execution_count": 29,
     "metadata": {},
     "output_type": "execute_result"
    }
   ],
   "source": [
    "stock_timestamp = fdr.DataReader('000810',\"2024-01-20\",\"2024-01-27\").filter(['Close','Change'])\n",
    "stock_timestamp"
   ]
  },
  {
   "cell_type": "code",
   "execution_count": 5,
   "id": "948343ec",
   "metadata": {},
   "outputs": [
    {
     "name": "stdout",
     "output_type": "stream",
     "text": [
      "          005940    03473K    066570\n",
      "005940  0.005555  0.001858  0.002384\n",
      "03473K  0.001858  0.003313  0.001633\n",
      "066570  0.002384  0.001633  0.004061\n",
      "0.003352062178032108\n",
      "0.05789699627814994\n"
     ]
    }
   ],
   "source": [
    "import pandas as pd\n",
    "weight = np.array([565200/1028600, 159200/1028600, 304200/1028600])\n",
    "stock_timestamp1 = fdr.DataReader('005930',\"2023-12-30\",\"2024-01-30\").filter(['Change']).rename(columns={'Change': '005940'})\n",
    "stock_timestamp2 = fdr.DataReader('03473K',\"2023-12-30\",\"2024-01-30\").filter(['Change']).rename(columns={'Change': '03473K'})\n",
    "stock_timestamp3 = fdr.DataReader('066570',\"2023-12-30\",\"2024-01-30\").filter(['Change']).rename(columns={'Change': '066570'})\n",
    "merged_df = pd.merge(stock_timestamp1, stock_timestamp2, left_index=True, right_index=True)\n",
    "merged_df = pd.merge(merged_df, stock_timestamp3, left_index=True, right_index=True)\n",
    "cov_matrix = merged_df.cov() * len(merged_df)\n",
    "print(cov_matrix)\n",
    "variance = np.dot(weight.T, np.dot(cov_matrix, weight))\n",
    "print(variance)\n",
    "volatility = np.sqrt(variance) \n",
    "print(volatility)"
   ]
  },
  {
   "cell_type": "code",
   "execution_count": 7,
   "id": "91a016cd",
   "metadata": {},
   "outputs": [
    {
     "name": "stdout",
     "output_type": "stream",
     "text": [
      "            005940\n",
      "Date              \n",
      "2024-01-02   79600\n",
      "2024-01-03   77000\n",
      "2024-01-04   76600\n",
      "2024-01-05   76600\n",
      "2024-01-08   76500\n",
      "2024-01-09   74700\n",
      "2024-01-10   73600\n",
      "2024-01-11   73200\n",
      "2024-01-12   73100\n",
      "2024-01-15   73900\n",
      "2024-01-16   72600\n",
      "2024-01-17   71000\n",
      "2024-01-18   71700\n",
      "2024-01-19   74700\n",
      "2024-01-22   75100\n",
      "2024-01-23   75200\n",
      "2024-01-24   74000\n",
      "2024-01-25   74100\n",
      "2024-01-26   73400\n",
      "2024-01-29   74400\n",
      "2024-01-30   74300\n",
      "005940   -0.069793\n",
      "03473K   -0.028219\n",
      "066570   -0.071325\n",
      "dtype: float64\n",
      "          005940    03473K    066570\n",
      "005940  0.005531  0.001867  0.002519\n",
      "03473K  0.001867  0.003463  0.001722\n",
      "066570  0.002519  0.001722  0.004274\n"
     ]
    }
   ],
   "source": [
    "from pypfopt.efficient_frontier import EfficientFrontier\n",
    "from pypfopt import risk_models\n",
    "from pypfopt import expected_returns\n",
    "\n",
    "stock_timestamp1 = fdr.DataReader('005930',\"2023-12-30\",\"2024-01-30\").filter(['Close']).rename(columns={'Close': '005940'})\n",
    "stock_timestamp2 = fdr.DataReader('03473K',\"2023-12-30\",\"2024-01-30\").filter(['Close']).rename(columns={'Close': '03473K'})\n",
    "stock_timestamp3 = fdr.DataReader('066570',\"2023-12-30\",\"2024-01-30\").filter(['Close']).rename(columns={'Close': '066570'})\n",
    "print(stock_timestamp1)\n",
    "merged_df = pd.merge(stock_timestamp1, stock_timestamp2, left_index=True, right_index=True)\n",
    "merged_df = pd.merge(merged_df, stock_timestamp3, left_index=True, right_index=True)\n",
    "\n",
    "mu = expected_returns.mean_historical_return(merged_df, frequency=len(merged_df))\n",
    "# mu = cov_matrix\n",
    "s = risk_models.sample_cov(merged_df, frequency=len(merged_df))\n",
    "print(mu)\n",
    "print(s)"
   ]
  },
  {
   "cell_type": "code",
   "execution_count": 8,
   "id": "861d4043",
   "metadata": {},
   "outputs": [
    {
     "data": {
      "text/plain": [
       "0.0034207023169771163"
      ]
     },
     "execution_count": 8,
     "metadata": {},
     "output_type": "execute_result"
    }
   ],
   "source": [
    "variance = np.dot(weight.T, np.dot(s, weight))\n",
    "variance"
   ]
  },
  {
   "cell_type": "code",
   "execution_count": 202,
   "id": "9c4389ea",
   "metadata": {},
   "outputs": [
    {
     "data": {
      "text/plain": [
       "Close_x   -0.069793\n",
       "Close_y   -0.028219\n",
       "Close     -0.071325\n",
       "dtype: float64"
      ]
     },
     "execution_count": 202,
     "metadata": {},
     "output_type": "execute_result"
    }
   ],
   "source": []
  },
  {
   "cell_type": "code",
   "execution_count": 9,
   "id": "ab144f31",
   "metadata": {},
   "outputs": [
    {
     "data": {
      "text/plain": [
       "0.0034207023169771163"
      ]
     },
     "execution_count": 9,
     "metadata": {},
     "output_type": "execute_result"
    }
   ],
   "source": [
    "variance"
   ]
  },
  {
   "cell_type": "code",
   "execution_count": 10,
   "id": "16e033e2",
   "metadata": {},
   "outputs": [
    {
     "name": "stdout",
     "output_type": "stream",
     "text": [
      "OrderedDict([('005940', 0.14682), ('03473K', 0.55753), ('066570', 0.29565)])\n",
      "Expected annual return: -4.7%\n",
      "Annual volatility: 5.2%\n",
      "Sharpe Ratio: 18.47\n"
     ]
    },
    {
     "name": "stderr",
     "output_type": "stream",
     "text": [
      "c:\\Users\\User\\miniconda3\\Lib\\site-packages\\pypfopt\\efficient_frontier\\efficient_frontier.py:441: UserWarning: The risk_free_rate provided to portfolio_performance is different to the one used by max_sharpe. Using the previous value.\n",
      "  warnings.warn(\n"
     ]
    },
    {
     "data": {
      "text/plain": [
       "(-0.047067180940859356, 0.0515876679369929, 18.47210500430092)"
      ]
     },
     "execution_count": 10,
     "metadata": {},
     "output_type": "execute_result"
    }
   ],
   "source": [
    "ef = EfficientFrontier(mu, s)\n",
    "weights = ef.max_sharpe(risk_free_rate=-1)\n",
    "cleaned_weights = ef.clean_weights()\n",
    "print(cleaned_weights)\n",
    "ef.portfolio_performance(verbose=True)"
   ]
  },
  {
   "cell_type": "code",
   "execution_count": 164,
   "id": "8553fe83",
   "metadata": {},
   "outputs": [
    {
     "name": "stdout",
     "output_type": "stream",
     "text": [
      "OrderedDict([('Close_x', 0.01222), ('Close_y', 0.91308), ('Close', 0.0747)])\n"
     ]
    }
   ],
   "source": [
    "print(cleaned_weights)"
   ]
  },
  {
   "cell_type": "code",
   "execution_count": null,
   "id": "0c76102f",
   "metadata": {},
   "outputs": [],
   "source": []
  },
  {
   "cell_type": "code",
   "execution_count": 198,
   "id": "9800cf99",
   "metadata": {},
   "outputs": [
    {
     "name": "stdout",
     "output_type": "stream",
     "text": [
      "Close_x     74300.0\n",
      "Close_y    137500.0\n",
      "Close       94500.0\n",
      "Name: 2024-01-30 00:00:00, dtype: float64\n",
      "OrderedDict([('Close_x', 0.14682), ('Close_y', 0.55753), ('Close', 0.29565)])\n",
      "Funds remaining: 46499.99\n",
      "Close_x: allocated 0.151, desired 0.147\n",
      "Close_y: allocated 0.560, desired 0.558\n",
      "Close: allocated 0.289, desired 0.296\n",
      "Allocation has RMSE: 0.005\n",
      "Funds remaining: 46500.00\n",
      "Close_y: allocated 0.560, desired 0.558\n",
      "Close: allocated 0.289, desired 0.296\n",
      "Close_x: allocated 0.151, desired 0.147\n",
      "Allocation has RMSE: 0.005\n",
      "allocation {'Close_x': 2, 'Close_y': 4, 'Close': 3}\n",
      "leftover 46499.98907237826\n",
      "allocation2 {'Close_y': 4, 'Close': 3, 'Close_x': 2}\n",
      "leftover2 46500.0\n"
     ]
    },
    {
     "name": "stderr",
     "output_type": "stream",
     "text": [
      "c:\\Users\\User\\miniconda3\\Lib\\site-packages\\cvxpy\\problems\\problem.py:1403: UserWarning: Solution may be inaccurate. Try another solver, adjusting the solver settings, or solve with verbose=True for more information.\n",
      "  warnings.warn(\n"
     ]
    }
   ],
   "source": [
    "from pypfopt.discrete_allocation import DiscreteAllocation, get_latest_prices\n",
    "\n",
    "latest_prices = get_latest_prices(merged_df)\n",
    "t = latest_prices.astype(float)\n",
    "print(t)\n",
    "weights = cleaned_weights\n",
    "# weights = np.asarray([1, 2, 3, 4], dtype=np.float64)\n",
    "print(weights)\n",
    "da = DiscreteAllocation(weights, t, total_portfolio_value=1028600)\n",
    "\n",
    "allocation, leftover = da.lp_portfolio(verbose=True)\n",
    "\n",
    "allocation2, leftover2 = da.greedy_portfolio(verbose=True)\n",
    "\n",
    "print(\"allocation\", allocation)\n",
    "print(\"leftover\", leftover)\n",
    "print(\"allocation2\", allocation2)\n",
    "print(\"leftover2\", leftover2)\n",
    "\n",
    "# allocation = da.greedy_portfolio()"
   ]
  },
  {
   "cell_type": "code",
   "execution_count": 175,
   "id": "1ab5ab1e",
   "metadata": {},
   "outputs": [
    {
     "name": "stdout",
     "output_type": "stream",
     "text": [
      "{'Close_y': 6, 'Close': 1, 'Close_x': 1}\n",
      "34800.0\n"
     ]
    }
   ],
   "source": [
    "print(allocation)\n",
    "print(leftover)"
   ]
  },
  {
   "cell_type": "code",
   "execution_count": null,
   "id": "cacc0ae6",
   "metadata": {},
   "outputs": [],
   "source": []
  }
 ],
 "metadata": {
  "kernelspec": {
   "display_name": "Python 3",
   "language": "python",
   "name": "python3"
  },
  "language_info": {
   "codemirror_mode": {
    "name": "ipython",
    "version": 3
   },
   "file_extension": ".py",
   "mimetype": "text/x-python",
   "name": "python",
   "nbconvert_exporter": "python",
   "pygments_lexer": "ipython3",
   "version": "3.11.4"
  },
  "toc": {
   "base_numbering": 1,
   "nav_menu": {},
   "number_sections": true,
   "sideBar": true,
   "skip_h1_title": false,
   "title_cell": "Table of Contents",
   "title_sidebar": "Contents",
   "toc_cell": false,
   "toc_position": {},
   "toc_section_display": true,
   "toc_window_display": false
  }
 },
 "nbformat": 4,
 "nbformat_minor": 5
}
